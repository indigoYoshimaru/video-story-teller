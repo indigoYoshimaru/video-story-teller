{
 "cells": [
  {
   "cell_type": "code",
   "execution_count": 2,
   "metadata": {},
   "outputs": [
    {
     "name": "stderr",
     "output_type": "stream",
     "text": [
      "/home/seito/.conda/envs/py310-nlp/lib/python3.10/site-packages/huggingface_hub/file_download.py:1132: FutureWarning: `resume_download` is deprecated and will be removed in version 1.0.0. Downloads always resume when possible. If you want to force a new download, use `force_download=True`.\n",
      "  warnings.warn(\n"
     ]
    },
    {
     "name": "stdout",
     "output_type": "stream",
     "text": [
      "['vi_VN Nghe này, tôi biết điều này nghe có vẻ điên rồ, nhưng bạn tôi Ben chỉ cần chuyển vào này cũ, tòa nhà căn hộ trang trí nghệ thuật trung tâm thành phố. Nó có nét duyên dáng cổ điển - lột giấy dán tường với hoa văn mờ nhạt thì thầm những câu chuyện bị lãng quên, ván sàn ọp ẹp mà rên rỉ dưới mỗi bước như những bóng ma của người thuê nhà bồn chồn, và pièce de résistance: một thang máy cọt kẹt mà rên rỉ nhiều hơn nó lướt. Nó cảm thấy như nó đang trên bờ vực từ bỏ con ma với mỗi lần đi lên, tiếng rên rỉ gỉ của nó vang vọng qua các hội trường bụi bặm.</s>', 'vi_VN Hôm qua, Ben hoảng hốt nhắn tin cho tôi. Nó bị kẹt trong thang máy giữa các tầng. Không có gì to tát, đúng không? Chuyện xảy ra với những người giỏi nhất trong chúng tôi. Nhưng đây là phần đáng lo ngại: có một cái \"Tầng 13\" thậm chí còn không có trên bảng điều khiển nút. Chỉ là một khoảng trống nơi đáng lẽ nó phải ở, một khoảng trống nhìn chằm chằm vào bạn, thách thức bạn nhấn cái nút không tồn tại.</s><pad><pad><pad><pad><pad><pad><pad><pad><pad><pad><pad><pad><pad><pad><pad><pad><pad><pad><pad><pad><pad><pad><pad><pad><pad><pad><pad><pad><pad><pad><pad><pad><pad><pad><pad><pad><pad><pad><pad><pad><pad><pad><pad><pad><pad><pad><pad><pad><pad><pad><pad><pad><pad><pad><pad><pad>', 'vi_VN Thang máy lảo đảo dừng lại, đẩy Ben vào bóng tối. Những bóng đèn huỳnh quang cũ rích nhấp nháy rồi tắt ngúm, chỉ để lại cho Ben ánh sáng yếu ớt của màn hình điện thoại. Nó mò mẫm tìm nút gọi, nhưng không thấy. Sự im lặng ngột ngạt, chỉ bị phá vỡ bởi tiếng rên rỉ của cỗ máy cổ xưa và tiếng đập thình thịch điên cuồng của chính trái tim nó. Có cảm giác như chính tòa nhà đang nín thở, chờ đợi.</s><pad><pad><pad><pad><pad><pad><pad><pad><pad><pad><pad><pad><pad><pad><pad><pad><pad><pad><pad><pad><pad><pad><pad><pad><pad><pad><pad><pad><pad><pad><pad><pad><pad><pad><pad><pad><pad><pad><pad><pad><pad>', 'vi_VN Sau đó, thang máy lại rung lên, cánh cửa mở toang kèm theo tiếng rít kinh tởm. Không có hành lang sáng bóng nào chào đón Ben, chỉ có một màn đêm đen ngòm như mực. Không khí trở nên dày đặc và tù đọng, sự im lặng chỉ bị phá vỡ bởi một âm thanh nhỏ giọt đều đều, nhỏ giọt từ một nơi nào đó vô hình. Ben, vẫn luôn là đứa tò mò (và có lẽ hơi ngốc nghếch một chút), thận trọng bước ra ngoài, đèn điện thoại của nó cắt xuyên qua bóng tối ngột ngạt.</s><pad><pad><pad><pad><pad><pad><pad><pad><pad><pad><pad><pad><pad><pad><pad><pad><pad><pad><pad><pad><pad><pad><pad><pad><pad><pad><pad><pad><pad><pad><pad><pad><pad><pad>', 'vi_VN Hành lang trải dài trước mặt anh, một đường hầm dài vô tận những giấy dán tường bong tróc và vải sơn sứt mẻ, nồng nặc mùi nấm mốc và thứ gì đó khác, thứ gì đó sâu hơn, thứ gì đó nguyên thủy. Nhưng chi tiết đáng lo ngại nhất là ánh sáng mờ nhạt, xanh lục tỏa ra từ đâu đó dưới hành lang. Nó đập nhịp nhàng, như một trái tim đang đập, vẫy gọi anh về phía trước.</s><pad><pad><pad><pad><pad><pad><pad><pad><pad><pad><pad><pad><pad><pad><pad><pad><pad><pad><pad><pad><pad><pad><pad><pad><pad><pad><pad><pad><pad><pad><pad><pad><pad><pad><pad><pad><pad><pad><pad><pad><pad><pad><pad><pad><pad><pad><pad><pad><pad><pad><pad><pad><pad><pad><pad><pad><pad>', 'vi_VN Anh ấy nhắn tin cho tôi: \"Có một tầng ở đây, nhưng nó không sáng. Tôi có nên bước ra không?\"</s><pad><pad><pad><pad><pad><pad><pad><pad><pad><pad><pad><pad><pad><pad><pad><pad><pad><pad><pad><pad><pad><pad><pad><pad><pad><pad><pad><pad><pad><pad><pad><pad><pad><pad><pad><pad><pad><pad><pad><pad><pad><pad><pad><pad><pad><pad><pad><pad><pad><pad><pad><pad><pad><pad><pad><pad><pad><pad><pad><pad><pad><pad><pad><pad><pad><pad><pad><pad><pad><pad><pad><pad><pad><pad><pad><pad><pad><pad><pad><pad><pad><pad><pad><pad><pad><pad><pad><pad><pad><pad><pad><pad><pad><pad><pad><pad><pad><pad><pad><pad><pad><pad><pad><pad><pad><pad><pad><pad><pad><pad><pad><pad><pad><pad><pad><pad><pad><pad><pad><pad><pad><pad><pad><pad><pad><pad><pad><pad><pad><pad><pad><pad><pad><pad><pad><pad>', 'vi_VN Tim tôi đập thình thịch trong lồng ngực khi tôi gõ lại, thúc giục anh ở lại, chờ sự giúp đỡ. Mất nhiều thời gian để anh trả lời, và khi cuối cùng anh cũng trả lời, thông điệp của anh thật lạnh lùng. \"Anh mỉm cười. Mắt anh... không có mắt, chỉ là những hố đen.\"</s><pad><pad><pad><pad><pad><pad><pad><pad><pad><pad><pad><pad><pad><pad><pad><pad><pad><pad><pad><pad><pad><pad><pad><pad><pad><pad><pad><pad><pad><pad><pad><pad><pad><pad><pad><pad><pad><pad><pad><pad><pad><pad><pad><pad><pad><pad><pad><pad><pad><pad><pad><pad><pad><pad><pad><pad><pad><pad><pad><pad><pad><pad><pad><pad><pad><pad><pad><pad><pad><pad><pad><pad><pad><pad><pad><pad><pad><pad><pad><pad><pad><pad><pad>', 'vi_VN \"Ai cười?\" Tôi nhắn lại, một nỗi khiếp sợ lạnh lẽo len lỏi trong bụng tôi.</s><pad><pad><pad><pad><pad><pad><pad><pad><pad><pad><pad><pad><pad><pad><pad><pad><pad><pad><pad><pad><pad><pad><pad><pad><pad><pad><pad><pad><pad><pad><pad><pad><pad><pad><pad><pad><pad><pad><pad><pad><pad><pad><pad><pad><pad><pad><pad><pad><pad><pad><pad><pad><pad><pad><pad><pad><pad><pad><pad><pad><pad><pad><pad><pad><pad><pad><pad><pad><pad><pad><pad><pad><pad><pad><pad><pad><pad><pad><pad><pad><pad><pad><pad><pad><pad><pad><pad><pad><pad><pad><pad><pad><pad><pad><pad><pad><pad><pad><pad><pad><pad><pad><pad><pad><pad><pad><pad><pad><pad><pad><pad><pad><pad><pad><pad><pad><pad><pad><pad><pad><pad><pad><pad><pad><pad><pad><pad><pad><pad><pad><pad><pad><pad><pad><pad><pad><pad><pad>', 'vi_VN \"Người đàn ông. Ở tầng 13.\"</s><pad><pad><pad><pad><pad><pad><pad><pad><pad><pad><pad><pad><pad><pad><pad><pad><pad><pad><pad><pad><pad><pad><pad><pad><pad><pad><pad><pad><pad><pad><pad><pad><pad><pad><pad><pad><pad><pad><pad><pad><pad><pad><pad><pad><pad><pad><pad><pad><pad><pad><pad><pad><pad><pad><pad><pad><pad><pad><pad><pad><pad><pad><pad><pad><pad><pad><pad><pad><pad><pad><pad><pad><pad><pad><pad><pad><pad><pad><pad><pad><pad><pad><pad><pad><pad><pad><pad><pad><pad><pad><pad><pad><pad><pad><pad><pad><pad><pad><pad><pad><pad><pad><pad><pad><pad><pad><pad><pad><pad><pad><pad><pad><pad><pad><pad><pad><pad><pad><pad><pad><pad><pad><pad><pad><pad><pad><pad><pad><pad><pad><pad><pad><pad><pad><pad><pad><pad><pad><pad><pad><pad><pad><pad><pad><pad><pad><pad><pad><pad><pad><pad><pad><pad>', 'vi_VN Kể từ đó nó không ngừng nói về \"Người đàn ông cười\" nữa. Cứ như thể nó bị ám ảnh vậy. Nó cứ lẩm bẩm về đôi mắt đen và nụ cười không bao giờ dứt, một nụ cười kéo dài từ tai này sang tai khác, không có hơi ấm, không có lòng nhân đạo. Ben vui tính, dễ dãi mà tôi biết dường như đã biến mất.</s><pad><pad><pad><pad><pad><pad><pad><pad><pad><pad><pad><pad><pad><pad><pad><pad><pad><pad><pad><pad><pad><pad><pad><pad><pad><pad><pad><pad><pad><pad><pad><pad><pad><pad><pad><pad><pad><pad><pad><pad><pad><pad><pad><pad><pad><pad><pad><pad><pad><pad><pad><pad><pad><pad><pad><pad><pad><pad><pad><pad><pad><pad><pad><pad><pad><pad><pad><pad><pad><pad><pad><pad><pad><pad><pad><pad><pad>', 'vi_VN Tôi vội vã chạy về căn hộ của Ben, sự im lặng trong hành lang dồn dập bao trùm lấy tôi, những tấm ván sàn kêu ken két rên rỉ như những linh hồn bị tra tấn dưới chân tôi. Ben ra mở cửa, nhưng đó không phải Ben. Đôi mắt nó, một thời tươi sáng và tràn đầy sức sống, trống rỗng, khuôn mặt nó như một chiếc mặt nạ vô cảm. Nó cứ lặp đi lặp lại cùng một câu, hết lần này đến lần khác, bằng một giọng đều đều, \"Người đàn ông cười... Anh ta đang đợi em ở tầng 13.\"</s><pad><pad><pad><pad><pad><pad><pad><pad><pad><pad><pad><pad><pad><pad><pad><pad><pad><pad><pad><pad><pad><pad><pad><pad><pad><pad><pad><pad><pad><pad><pad>', 'vi_VN Cơn hoảng loạn cào xé cổ họng tôi. Tôi gọi cảnh sát, nhưng khi họ đến, họ không tìm thấy gì bất thường. Không có tầng hầm bí mật, không dấu vết gì bất thường. Họ nghĩ Ben bị căng thẳng, làm việc quá sức, thậm chí có thể bị ảo giác. Nhưng tôi biết rõ hơn.</s><pad><pad><pad><pad><pad><pad><pad><pad><pad><pad><pad><pad><pad><pad><pad><pad><pad><pad><pad><pad><pad><pad><pad><pad><pad><pad><pad><pad><pad><pad><pad><pad><pad><pad><pad><pad><pad><pad><pad><pad><pad><pad><pad><pad><pad><pad><pad><pad><pad><pad><pad><pad><pad><pad><pad><pad><pad><pad><pad><pad><pad><pad><pad><pad><pad><pad><pad><pad><pad><pad><pad><pad><pad><pad><pad><pad><pad><pad><pad><pad><pad><pad><pad><pad><pad><pad><pad><pad><pad>', 'vi_VN Ben tự nhốt mình trong căn hộ của nó, không chịu ra ngoài. Nó cứ vẽ đi vẽ lại một thứ trên những mẩu giấy: một nụ cười toe toét rộng ngoác với hai hốc mắt đen thui trống rỗng. Và đôi khi, vào đêm khuya, tôi thề là tôi nghe thấy một âm thanh nhỏ giọt yếu ớt, nhịp nhàng phát ra từ căn hộ của nó, một âm thanh làm tôi lạnh đến tận xương tủy.</s><pad><pad><pad><pad><pad><pad><pad><pad><pad><pad><pad><pad><pad><pad><pad><pad><pad><pad><pad><pad><pad><pad><pad><pad><pad><pad><pad><pad><pad><pad><pad><pad><pad><pad><pad><pad><pad><pad><pad><pad><pad><pad><pad><pad><pad><pad><pad><pad><pad><pad><pad><pad><pad><pad><pad><pad><pad><pad><pad><pad><pad><pad>', 'vi_VN Tôi phát ốm lên vì lo lắng. Có chuyện gì xảy ra với Ben trên tầng 13 không? Nếu \"Người đàn ông cười\" bằng cách nào đó đã đến với anh ta thì sao? Và giờ đây, ánh sáng lấp lánh quen thuộc trong mắt Ben dường như bị thay thế bằng một bóng tối rỗng, phản chiếu những lỗ đen mà anh ta mô tả. Liệu Ben có mãi mãi lạc lối trước những nỗi kinh hoàng của Tầng 13 không?</s><pad><pad><pad><pad><pad><pad><pad><pad><pad><pad><pad><pad><pad><pad><pad><pad><pad><pad><pad><pad><pad><pad><pad><pad><pad><pad><pad><pad><pad><pad><pad><pad><pad><pad><pad><pad><pad><pad><pad><pad><pad><pad><pad><pad><pad><pad><pad><pad><pad><pad><pad><pad><pad><pad><pad><pad><pad><pad><pad><pad><pad><pad><pad>', 'vi_VN Và phần đáng sợ nhất? Khoảng trống nơi nút \"Tầng 13\" nên ở... nó không còn trống nữa.</s><pad><pad><pad><pad><pad><pad><pad><pad><pad><pad><pad><pad><pad><pad><pad><pad><pad><pad><pad><pad><pad><pad><pad><pad><pad><pad><pad><pad><pad><pad><pad><pad><pad><pad><pad><pad><pad><pad><pad><pad><pad><pad><pad><pad><pad><pad><pad><pad><pad><pad><pad><pad><pad><pad><pad><pad><pad><pad><pad><pad><pad><pad><pad><pad><pad><pad><pad><pad><pad><pad><pad><pad><pad><pad><pad><pad><pad><pad><pad><pad><pad><pad><pad><pad><pad><pad><pad><pad><pad><pad><pad><pad><pad><pad><pad><pad><pad><pad><pad><pad><pad><pad><pad><pad><pad><pad><pad><pad><pad><pad><pad><pad><pad><pad><pad><pad><pad><pad><pad><pad><pad><pad><pad><pad><pad><pad><pad><pad><pad><pad><pad><pad><pad><pad><pad><pad>']\n"
     ]
    }
   ],
   "source": [
    "import torch\n",
    "from transformers import AutoTokenizer, AutoModelForSeq2SeqLM\n",
    "\n",
    "tokenizer_en2vi = AutoTokenizer.from_pretrained(\"vinai/vinai-translate-en2vi-v2\", src_lang=\"en_XX\")\n",
    "model_en2vi = AutoModelForSeq2SeqLM.from_pretrained(\"vinai/vinai-translate-en2vi-v2\")\n",
    "device_en2vi = torch.device(\"cuda\")\n",
    "model_en2vi.to(device_en2vi)\n",
    "\n",
    "\n",
    "def translate_en2vi(en_texts: str) -> str:\n",
    "    input_ids = tokenizer_en2vi(en_texts, padding=True, return_tensors=\"pt\").to(device_en2vi)\n",
    "    output_ids = model_en2vi.generate(\n",
    "        **input_ids,\n",
    "        decoder_start_token_id=tokenizer_en2vi.lang_code_to_id[\"vi_VN\"],\n",
    "        num_return_sequences=1,\n",
    "        num_beams=5,\n",
    "        early_stopping=True\n",
    "    )\n",
    "    vi_texts = tokenizer_en2vi.batch_decode(output_ids, skip_special_tokens=True)\n",
    "    return vi_texts\n",
    " \n",
    "# The input may consist of multiple text sequences, with the number of text sequences in the input ranging from 1 up to 8, 16, 32, or even higher, depending on the GPU memory.\n",
    "en_texts = \"\"\"Look, I know this sounds crazy, but my friend Ben just moved into this old, art-deco apartment building downtown. It's got that vintage charm – peeling wallpaper with faded floral patterns whispering forgotten stories, rickety floorboards that groan under every step like the ghosts of restless tenants, and the pièce de résistance: a creaky elevator that groans more than it glides. It feels like it's on the verge of giving up the ghost with every ascent, its rusty groans echoing through the dusty halls.\n",
    "\n",
    "Yesterday, Ben texted me in a panic. He got stuck in the elevator between floors. Not a big deal, right? Happens to the best of us. But here's the unsettling part: there's a \"Floor 13\" that isn't even on the button panel. Just a blank space where it should be, a void staring back at you, daring you to push the non-existent button.\n",
    "\n",
    "The elevator lurched to a halt, plunging Ben into darkness. The old fluorescent lights flickered and died, leaving him with only the faint glow of his phone screen. He fumbled for the call button, but it was unresponsive. The silence was oppressive, broken only by the groaning of the ancient machinery and the frantic thump-thump of his own heart. It felt like the building itself was holding its breath, waiting.\n",
    "\n",
    "Then, the elevator jolted again, and the doors clanged open with a sickening screech. No shiny hallway greeted him, just a gaping maw of inky blackness. The air turned thick and stagnant, the silence broken only by a low, rhythmic dripping sound from somewhere unseen. Ben, ever the curious one (and maybe a little foolish), cautiously stepped out, his phone light cutting through the suffocating darkness.\n",
    "\n",
    "The hallway stretched before him, an endless tunnel of peeling wallpaper and chipped linoleum, reeking of mildew and something else, something deeper, something primal. But the most unsettling detail was the faint, greenish glow emanating from somewhere down the corridor. It pulsed rhythmically, like a beating heart, beckoning him forward.\n",
    "\n",
    "He texted me: \"There's a floor here, but it's not lit. Should I step out?\"\n",
    "\n",
    "My heart hammered against my ribs as I typed back, urging him to stay put, wait for help. It took ages for him to respond, and when he finally did, his message was chilling. \"He smiled. His eyes… no eyes, just black holes.\"\n",
    "\n",
    "\"Who smiled?\" I texted back, a cold dread creeping into my gut.\n",
    "\n",
    "\"The man. On Floor 13.\"\n",
    "\n",
    "He hasn't stopped talking about \"The Smiling Man\" ever since. It's like he's obsessed. He keeps muttering about black eyes and a never-ending smile, a smile that stretched from ear to ear, devoid of warmth, devoid of humanity. The playful, easygoing Ben I know seems to have vanished.\n",
    "\n",
    "I rushed over to his apartment, the silence in the hallway pressing in on me, the creaking floorboards groaning like tortured souls under my feet. Ben answered the door, but it wasn't Ben. His eyes, once bright and full of life, were vacant, his face an emotionless mask. He kept repeating the same phrase, over and over, in a monotone voice, \"The Smiling Man… He waits for you on Floor 13.\"\n",
    "\n",
    "Panic clawed at my throat. I called the police, but when they arrived, they found nothing unusual. No hidden floor, no trace of anything amiss. They think Ben's stressed, overworked, maybe even hallucinating. But I know better.\n",
    "\n",
    "Ben's locked himself in his apartment, refusing to come out. He keeps drawing the same thing over and over on scraps of paper: a wide, toothy grin with empty black sockets for eyes. And sometimes, late at night, I swear I hear a faint, rhythmic dripping sound coming from his apartment, a sound that chills me to the bone.\n",
    "\n",
    "I'm worried sick. Did something happen to him on Floor 13? What if \"The Smiling Man\" got to him somehow? And now, the once-familiar glint in Ben's eyes seems replaced by a hollow darkness, mirroring the black holes he described. Is Ben lost forever to the horrors of Floor 13?\n",
    "\n",
    "And the most terrifying part? The blank space where the \"Floor 13\" button should be… it's no longer blank.\"\"\".split(\"\\n\\n\")\n",
    "print(translate_en2vi(en_texts))"
   ]
  },
  {
   "cell_type": "code",
   "execution_count": null,
   "metadata": {},
   "outputs": [],
   "source": []
  }
 ],
 "metadata": {
  "kernelspec": {
   "display_name": "py310-nlp",
   "language": "python",
   "name": "python3"
  },
  "language_info": {
   "codemirror_mode": {
    "name": "ipython",
    "version": 3
   },
   "file_extension": ".py",
   "mimetype": "text/x-python",
   "name": "python",
   "nbconvert_exporter": "python",
   "pygments_lexer": "ipython3",
   "version": "3.10.11"
  }
 },
 "nbformat": 4,
 "nbformat_minor": 2
}
